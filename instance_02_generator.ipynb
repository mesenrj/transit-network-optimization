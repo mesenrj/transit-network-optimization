{
 "cells": [
  {
   "cell_type": "code",
   "execution_count": 1,
   "id": "dedebe5e-1e12-432b-b7f9-c55ee2682634",
   "metadata": {},
   "outputs": [],
   "source": [
    "# Imports\n",
    "import numpy as np\n",
    "import pandas as pd\n",
    "import matplotlib.pyplot as plt\n",
    "import networkx as nx\n",
    "import osmnx as ox\n",
    "import geopandas as gpd\n",
    "import itertools\n",
    "import time\n",
    "import random\n",
    "import ast"
   ]
  },
  {
   "cell_type": "code",
   "execution_count": 2,
   "id": "195f924a-68ad-4e42-a2bc-81a11957fa75",
   "metadata": {},
   "outputs": [],
   "source": [
    "# Utils & Functions\n",
    "from utils import *\n",
    "from hrga import *\n",
    "from tndp import *\n",
    "from export import *\n",
    "from plot import *"
   ]
  },
  {
   "cell_type": "markdown",
   "id": "a256fcff-dec6-43a4-910f-c5b3c93b0107",
   "metadata": {},
   "source": [
    "### Graph Structure for Instance 2 (Toy 2 Instance)\n",
    "\n",
    "Example taken from Guan et al. (2006). 9-node network used as case study. In this case there are multiple paths for some of the origin-destination pairs. This configuration leads to a more complicated line configuration."
   ]
  },
  {
   "cell_type": "code",
   "execution_count": 3,
   "id": "bc3f7e42-e578-48b4-97ef-7b1e131e8669",
   "metadata": {},
   "outputs": [],
   "source": [
    "# Generating Mandl's Network\n",
    "\n",
    "# Create graph\n",
    "G = nx.Graph()\n",
    "\n",
    "# Node Positions\n",
    "node_positions = [(-2, 0), (-2, -1), (-1, 0), (0, 0), (0, -1), (1, 0), (1, -1), (2, 0), (2, -1)]\n",
    "\n",
    "# Add nodes\n",
    "for i in range(9):\n",
    "    G.add_node(i+1, pos=node_positions[i])\n",
    "    \n",
    "\n",
    "    \n",
    "# Add edges\n",
    "edge_list =    [(1, 3), (2, 3), (3, 4), (3, 5), (4, 5), (4, 6), (5, 7), (6, 7), (6, 8), (7, 9)]\n",
    "edge_lengths = [  4010,  21580,   6051,   9272,   5554,  11776,   5242,   4331,   5246,   6226]\n",
    "edge_times =   [     7,     15,     12,     11,     11,     23,     11,      8,      9,     11]\n",
    "\n",
    "for i in range(len(edge_list)):\n",
    "    G.add_edge(*edge_list[i], length=edge_lengths[i], travel_time=edge_times[i])"
   ]
  },
  {
   "cell_type": "code",
   "execution_count": 4,
   "id": "2b87e77f-c4be-405b-8a1d-86f3979bb293",
   "metadata": {},
   "outputs": [
    {
     "data": {
      "image/png": "[encoded data removed]",
      "text/plain": [
       "<Figure size 720x360 with 1 Axes>"
      ]
     },
     "metadata": {},
     "output_type": "display_data"
    }
   ],
   "source": [
    "# Plot Graph\n",
    "f, ax = plt.subplots(figsize=(10, 5))\n",
    "\n",
    "pos = nx.get_node_attributes(G, 'pos')\n",
    "\n",
    "node_plot = nx.draw_networkx_nodes(G, pos, node_color='white', node_size=500)\n",
    "edges_plot = nx.draw_networkx_edges(G, pos, width=2)\n",
    "labels_plot = nx.draw_networkx_labels(G, pos)\n",
    "\n",
    "# Change border\n",
    "node_plot.set_edgecolor('k')\n",
    "node_plot.set_linewidth(2)\n",
    "\n",
    "# Display\n",
    "plt.show()"
   ]
  },
  {
   "cell_type": "markdown",
   "id": "93248f10-2b87-4a2a-b821-9e6ec7f50a5a",
   "metadata": {},
   "source": [
    "#### Generating All Possible Routes\n",
    "\n",
    "Generate all possible routes by enumerating shortest paths from any origin $i$ to any destination $j$. Since this is a small network, we generate all simple paths with no problem. Note that a single path can be found in $O(N+E)$ time, but the number of simple paths can be large $O(n!)$. A simple path is a path with no repeated nodes."
   ]
  },
  {
   "cell_type": "code",
   "execution_count": 6,
   "id": "50d26d01-3fa4-4649-b292-934b841ad6be",
   "metadata": {},
   "outputs": [],
   "source": [
    "# Initialize List\n",
    "routes = []\n",
    "\n",
    "# Iterate\n",
    "for origin in list(G.nodes()):\n",
    "    for destination in list(G.nodes()):\n",
    "        \n",
    "        # If origin is not destination...\n",
    "        if origin != destination:\n",
    "            \n",
    "            # Iterate paths\n",
    "            for route in list(nx.shortest_simple_paths(G, origin, destination, weight='length')):\n",
    "                routes.append(route)"
   ]
  },
  {
   "cell_type": "code",
   "execution_count": 7,
   "id": "e09b7660-d6eb-476b-9c1d-316d7f0df9b0",
   "metadata": {},
   "outputs": [
    {
     "name": "stdout",
     "output_type": "stream",
     "text": [
      "Number of feasible routes (before removing simetrical routes): 220\n"
     ]
    }
   ],
   "source": [
    "print(f'Number of feasible routes (before removing simetrical routes): {len(routes)}')"
   ]
  },
  {
   "cell_type": "code",
   "execution_count": 8,
   "id": "49fcbd87-12b2-44df-b972-0b483e486e3a",
   "metadata": {},
   "outputs": [
    {
     "name": "stdout",
     "output_type": "stream",
     "text": [
      "Number of feasible routes (after removing simetrical routes): 110\n"
     ]
    }
   ],
   "source": [
    "# Apply function (tndp.py)\n",
    "unique = unique_routes(routes)\n",
    "print(f'Number of feasible routes (after removing simetrical routes): {len(unique)}')"
   ]
  },
  {
   "cell_type": "markdown",
   "id": "2971ee7b-142d-49e5-abf6-df1e20597989",
   "metadata": {},
   "source": [
    "#### Generate Demand Matrix\n",
    "\n",
    "Generate a demand matrix for all OD pairs. Since demand data is not available from Guan et al. (2006), we generate a random matrix with demands ranging from 0 to 9. A seed is declared so results are reproducible."
   ]
  },
  {
   "cell_type": "code",
   "execution_count": 9,
   "id": "a5232389-90ed-4510-a6f9-8f11800268bc",
   "metadata": {},
   "outputs": [
    {
     "name": "stdout",
     "output_type": "stream",
     "text": [
      "[[0 9 2 8 3 3 4 8 1]\n",
      " [5 0 4 1 8 8 3 2 7]\n",
      " [5 1 0 2 1 5 5 0 5]\n",
      " [2 3 9 0 0 8 7 4 3]\n",
      " [1 3 6 2 0 8 4 6 1]\n",
      " [7 4 3 5 1 0 7 0 4]\n",
      " [0 4 8 8 7 7 0 4 1]\n",
      " [0 9 1 6 6 4 1 0 6]\n",
      " [0 5 1 4 8 1 3 6 0]]\n"
     ]
    }
   ],
   "source": [
    "# Random Seed\n",
    "np.random.seed(123456)\n",
    "\n",
    "# Generate random demand matrix\n",
    "demand_matrix = (np.random.rand(len(G.nodes()), len(G.nodes())) * 10).astype(np.int32)\n",
    "\n",
    "for i in range(demand_matrix.shape[0]):\n",
    "    demand_matrix[i][i] = 0\n",
    "\n",
    "# Print Matrix\n",
    "print(demand_matrix)"
   ]
  },
  {
   "cell_type": "markdown",
   "id": "aa895a30-61c8-4da1-b40b-aa72aa129114",
   "metadata": {},
   "source": [
    "#### Generate $\\Delta$ Matrix\n",
    "\n",
    "Generate $\\Delta_{er}$ matrix. This matrix tells if edge $e \\in E$ is part of route $r \\in R$."
   ]
  },
  {
   "cell_type": "code",
   "execution_count": 10,
   "id": "fcdb88cd-9a07-4bf4-9fd1-2a4e11186ad1",
   "metadata": {},
   "outputs": [
    {
     "name": "stdout",
     "output_type": "stream",
     "text": [
      "DELTA Matrix: \n",
      "\n",
      "[[1 1 0 ... 0 0 0]\n",
      " [1 0 0 ... 0 0 0]\n",
      " [1 0 1 ... 0 0 0]\n",
      " ...\n",
      " [0 0 0 ... 1 1 1]\n",
      " [0 0 0 ... 0 1 1]\n",
      " [0 0 1 ... 0 1 1]]\n"
     ]
    }
   ],
   "source": [
    "DELTA = generate_DELTA_matrix(G, routes)\n",
    "print(f'DELTA Matrix: \\n')\n",
    "print(DELTA)"
   ]
  },
  {
   "cell_type": "markdown",
   "id": "bfe3790e-4bcb-4360-a177-39fffcda5c83",
   "metadata": {},
   "source": [
    "#### Enumerate Paths\n",
    "\n",
    "Since we are working with a small instance we are going to enumerate all possible paths from all origins and all destinations. This instance allows for multiple paths in some cases, for that we calculate the $k$ shortest paths. Given a large enough $k$ we expect for all possible paths to be calculated. This approach would be unfeasible in larger networks, however.\n",
    "\n",
    "Since we calculated routes using all possible paths, the set of possible paths is identical to the set of routes."
   ]
  },
  {
   "cell_type": "code",
   "execution_count": 11,
   "id": "ed210a00-c325-463a-87f4-5e14b1be381a",
   "metadata": {},
   "outputs": [],
   "source": [
    "# Generate OD Pairs List\n",
    "od_pairs = generate_od_pair_list(G, demand_matrix)"
   ]
  },
  {
   "cell_type": "code",
   "execution_count": 12,
   "id": "5790e7bb-407d-4d10-9bda-5cac35aeaa26",
   "metadata": {},
   "outputs": [],
   "source": [
    "# Generate Paths\n",
    "paths, num_paths = generate_paths(G, od_pairs)"
   ]
  },
  {
   "cell_type": "markdown",
   "id": "17c4f953-ac03-452c-bf37-9b6223e72762",
   "metadata": {},
   "source": [
    "#### Generate $\\delta$ Tensor\n",
    "\n",
    "The $\\delta_{ep}^{od}$ tensor indicates if the edge $e$ is used on path $p$ chosen from origin $o$ to destination $d$. It allows for the coupling of routes and paths in the optimization model.\n",
    "\n",
    "This matrix has shape $[od][k][e]$"
   ]
  },
  {
   "cell_type": "code",
   "execution_count": 13,
   "id": "90af4439-35bf-4712-8756-12854652097a",
   "metadata": {},
   "outputs": [],
   "source": [
    "# Generate Matrix\n",
    "delta = generate_delta_matrix(G, od_pairs, num_paths, paths)\n",
    "#delta"
   ]
  },
  {
   "cell_type": "markdown",
   "id": "04f206c2-2b3b-4697-90b4-6ee93a651a62",
   "metadata": {},
   "source": [
    "#### Generate Outputs"
   ]
  },
  {
   "cell_type": "code",
   "execution_count": 14,
   "id": "d051a5ad-395a-43de-916a-a1da9897d567",
   "metadata": {},
   "outputs": [],
   "source": [
    "# Nodes\n",
    "node_ids = list(G.nodes())\n",
    "node_x = [G.nodes[node]['pos'][0] for node in G.nodes()]\n",
    "node_y = [G.nodes[node]['pos'][1] for node in G.nodes()]\n",
    "\n",
    "\n",
    "# Data\n",
    "node_data = {\n",
    "    'id' : node_ids,\n",
    "    'x' : node_x,\n",
    "    'y' : node_y,\n",
    "}\n",
    "\n",
    "# Dataframe\n",
    "nodes_df = pd.DataFrame(data=node_data)\n",
    "\n",
    "# Print\n",
    "#nodes_df"
   ]
  },
  {
   "cell_type": "code",
   "execution_count": 15,
   "id": "8d3a4534-bee9-4f03-9b37-3ac115fffaf1",
   "metadata": {},
   "outputs": [],
   "source": [
    "# Edges\n",
    "edge_ids = [id + 1  for id in range(len(G.edges()))]\n",
    "edge_origins = [u for u, v in G.edges()]\n",
    "edge_destinations = [v for u, v in G.edges()]\n",
    "edge_lengths = [G[u][v]['length'] for u, v in G.edges()]\n",
    "edge_travel_time = [G[u][v]['length'] for u, v in G.edges()]\n",
    "edge_capacity = [10 for edge in range(len(G.edges()))]\n",
    "\n",
    "# Data\n",
    "edge_data = {\n",
    "    'id' : edge_ids,\n",
    "    'origin' : edge_origins,\n",
    "    'destination' : edge_destinations,\n",
    "    'length' : edge_lengths,\n",
    "    'travel_time' : edge_travel_time,\n",
    "    'capacity' : edge_capacity\n",
    "}\n",
    "\n",
    "# Dataframe\n",
    "edges_df = pd.DataFrame(data=edge_data)\n",
    "\n",
    "# Print\n",
    "#edges_df"
   ]
  },
  {
   "cell_type": "code",
   "execution_count": 16,
   "id": "7364770a-17c2-480f-bc3c-a45df69eb8bd",
   "metadata": {},
   "outputs": [],
   "source": [
    "# OD Matrix\n",
    "od_ids = [id + 1 for id in range(len(od_pairs))]\n",
    "od_origin = [int(od.split('-')[0]) for od in od_pairs]\n",
    "od_destination = [int(od.split('-')[1]) for od in od_pairs]\n",
    "od_demand = [demand_matrix[int(od.split('-')[0]) - 1][int(od.split('-')[1]) - 1] for od in od_pairs]\n",
    "od_paths = [num_paths[od] for od in od_pairs]\n",
    "\n",
    "# Data\n",
    "od_data = {\n",
    "    'id' : od_ids,\n",
    "    'origin' : od_origin,\n",
    "    'destination' : od_destination,\n",
    "    'demand' : od_demand,\n",
    "    'paths' : od_paths\n",
    "}\n",
    "\n",
    "# Dataframe\n",
    "od_df = pd.DataFrame(data=od_data)\n",
    "#od_df"
   ]
  },
  {
   "cell_type": "code",
   "execution_count": 17,
   "id": "faf7bf94-a2d3-43fb-9c67-e98365f08316",
   "metadata": {},
   "outputs": [],
   "source": [
    "# Routes\n",
    "route_ids = [id + 1 for id in range(len(routes))]\n",
    "route_sequences = [str(sequence) for sequence in routes]\n",
    "route_length = [nx.path_weight(G, route, weight='length') for route in routes]\n",
    "route_stops = [len(route) for route in routes]\n",
    "\n",
    "# Data\n",
    "route_data = {\n",
    "    'id' : route_ids,\n",
    "    'sequence' : route_sequences,\n",
    "    'length' : route_length,\n",
    "    'num_stops' : route_stops\n",
    "}\n",
    "\n",
    "route_df = pd.DataFrame(data=route_data)\n",
    "#route_df"
   ]
  },
  {
   "cell_type": "code",
   "execution_count": 18,
   "id": "cec231d2-0dc9-43f1-abaa-cfa724dffd59",
   "metadata": {},
   "outputs": [],
   "source": [
    "k = 10\n",
    "\n",
    "# Paths\n",
    "paths_id = [id + 1 for id in range(len(paths) * k)]\n",
    "paths_sequence = [str(paths[od][i]) if i < len(paths[od]) else '' for od in paths for i in range(k)]\n",
    "paths_length = [nx.path_weight(G, paths[od][i], weight='length') if i < len(paths[od]) else 0 for od in paths for i in range(k)]\n",
    "paths_stops = [len(paths[od][i]) if i < len(paths[od]) else 0 for od in paths for i in range(k)]\n",
    "\n",
    "# Data\n",
    "paths_data = {\n",
    "    'id' : paths_id,\n",
    "    'sequence' : paths_sequence,\n",
    "    'length' : paths_length,\n",
    "    'num_stops' : paths_stops\n",
    "}\n",
    "\n",
    "paths_df = pd.DataFrame(data=paths_data)\n",
    "#paths_df"
   ]
  },
  {
   "cell_type": "code",
   "execution_count": 19,
   "id": "25a61be5-84ca-498a-b217-9a539ded182a",
   "metadata": {},
   "outputs": [],
   "source": [
    "# DELTA Matrix\n",
    "DELTA_value = [edge for route in DELTA for edge in route]\n",
    "edge_ids = [id + 1 for id in range(len(G.edges()))] * len(routes)\n",
    "route_ids = [id + 1 for id in range(len(routes)) for i in range(len(G.edges()))]\n",
    "\n",
    "# Data\n",
    "DELTA_data = {\n",
    "    'route_id' : route_ids,\n",
    "    'edge_id' : edge_ids,    \n",
    "    'DELTA' : DELTA_value\n",
    "}\n",
    "\n",
    "# Dataframe\n",
    "DELTA_df = pd.DataFrame(data=DELTA_data)\n",
    "#DELTA_df"
   ]
  },
  {
   "cell_type": "code",
   "execution_count": 20,
   "id": "e991d331-c2b0-4393-ad8c-90c067df22c2",
   "metadata": {},
   "outputs": [],
   "source": [
    "k = 10\n",
    "\n",
    "# delta Matrix\n",
    "delta_value = [edge for od in delta for path in od for edge in path]\n",
    "od_ids = [id + 1 for id in range(len(od_pairs)) for i in range(k) for j in range(len(G.edges()))]\n",
    "path_ids = [id + 1 for id in range(k) for edge in range(len(G.edges()))] * len(od_pairs)\n",
    "edge_ids = [id + 1 for id in range(len(G.edges()))] * k * len(od_pairs)\n",
    "\n",
    "od_origins = [int(od_pairs[id].split('-')[0]) for id in range(len(od_pairs)) for i in range(k) for j in range(len(G.edges()))]\n",
    "od_destinations = [int(od_pairs[id].split('-')[1]) for id in range(len(od_pairs)) for i in range(k) for j in range(len(G.edges()))]\n",
    "\n",
    "# Data\n",
    "delta_data = {\n",
    "    'od' : od_ids,\n",
    "    'path' : path_ids,\n",
    "    'edge' : edge_ids,\n",
    "    'delta' : delta_value,\n",
    "    'origin' : od_origins,\n",
    "    'destination' : od_destinations\n",
    "}\n",
    "\n",
    "# DataFrame\n",
    "delta_df = pd.DataFrame(data=delta_data)\n",
    "#delta_df"
   ]
  },
  {
   "cell_type": "markdown",
   "id": "cbce7b75-6c6b-439b-b188-d7eb95a6178e",
   "metadata": {},
   "source": [
    "#### Preprocess Y Variable"
   ]
  },
  {
   "cell_type": "code",
   "execution_count": 21,
   "id": "6dfa6898-3683-4ddf-8e4e-76e3c1bc91f0",
   "metadata": {},
   "outputs": [
    {
     "name": "stdout",
     "output_type": "stream",
     "text": [
      "y_od_r original size: 7260\n",
      "fixed_variables: 1736\n",
      "y_od_r simplified size: 5524\n"
     ]
    }
   ],
   "source": [
    "# Vectors\n",
    "y_fix_od = []\n",
    "y_fix_r  = []\n",
    "\n",
    "# Iterate over OD pairs\n",
    "for i, row in od_df.iterrows():\n",
    "    \n",
    "    # Iterate over routes\n",
    "    for i, route in enumerate(routes):\n",
    "        \n",
    "        # If neither origin, nor destination in route, add do vector\n",
    "        if (row['origin'] not in route) and (row['destination'] not in route):\n",
    "            \n",
    "            y_fix_od.append(row['id'])\n",
    "            y_fix_r.append(i+1)\n",
    "            \n",
    "# Print Results\n",
    "print(f'y_od_r original size: {od_df.shape[0] * len(routes)}')\n",
    "print(f'fixed_variables: {len(y_fix_od)}')\n",
    "print(f'y_od_r simplified size: {(od_df.shape[0] * len(routes)) - len(y_fix_od)}')"
   ]
  },
  {
   "cell_type": "markdown",
   "id": "828f0255-4554-42fc-98e8-9f88b351db3e",
   "metadata": {},
   "source": [
    "#### Reduce Dimensionality of $\\delta$ Matrix"
   ]
  },
  {
   "cell_type": "code",
   "execution_count": 22,
   "id": "4412776f-b972-479f-87a2-37cbdbd53408",
   "metadata": {},
   "outputs": [
    {
     "name": "stdout",
     "output_type": "stream",
     "text": [
      "iterating over od pair 1/66\n"
     ]
    }
   ],
   "source": [
    "# Initialize W Vector\n",
    "od_path_edge = []\n",
    "start_index  = []\n",
    "finish_index = []\n",
    "\n",
    "# Counter\n",
    "i = 0\n",
    "\n",
    "# Rename edges_df\n",
    "df = edges_df\n",
    "\n",
    "# Iterate over OD pairs\n",
    "for j, od in enumerate(od_pairs):\n",
    "    \n",
    "    i += 1\n",
    "    \n",
    "    if j % 100 == 0:\n",
    "        print(f'iterating over od pair {j+1}/{len(od_pairs)}' )\n",
    "    \n",
    "    # Iterate over paths\n",
    "    for k in range(10):# enumerate(paths[od]):\n",
    "\n",
    "        # If index in range\n",
    "        if k < len(paths[od]):\n",
    "           \n",
    "            # Convert path to edges\n",
    "            edges_path = path_nodes_to_edges(paths[od][k])\n",
    "\n",
    "            # Add Starting Index\n",
    "            start_index.append(i)\n",
    "\n",
    "            # I\n",
    "            i += len(edges_path) - 1\n",
    "\n",
    "            # Add Ending Index\n",
    "            finish_index.append(i)\n",
    "            \n",
    "            # I\n",
    "            #i += 1 \n",
    "\n",
    "            # Iterate over edges\n",
    "            for edge in edges_path:\n",
    "\n",
    "                # Find edge id\n",
    "                edge_id = df[((df.origin == edge[0]) & (df.destination == edge[1])) | ((df.origin == edge[1]) & (df.destination == edge[0]))].id.values[0]\n",
    "\n",
    "                # Add id to list\n",
    "                od_path_edge.append(edge_id)            \n",
    "        \n",
    "        # If out of range...\n",
    "        else:\n",
    "            \n",
    "            # Add Starting Index\n",
    "            start_index.append(i)\n",
    "\n",
    "            # Add Ending Index\n",
    "            finish_index.append(i)"
   ]
  },
  {
   "cell_type": "code",
   "execution_count": 23,
   "id": "71bcd0b5-2eb3-42e4-9458-a50fdd654c8e",
   "metadata": {},
   "outputs": [
    {
     "name": "stdout",
     "output_type": "stream",
     "text": [
      "Length of vector: 685\n"
     ]
    }
   ],
   "source": [
    "print(f'Length of vector: {len(od_path_edge)}')"
   ]
  },
  {
   "cell_type": "code",
   "execution_count": 24,
   "id": "47a3c464-79e0-45da-bedc-a13daeb042aa",
   "metadata": {},
   "outputs": [],
   "source": [
    "k = 10\n",
    "\n",
    "# delta Matrix\n",
    "od_ids = [id + 1 for id in range(len(od_pairs)) for i in range(k)]\n",
    "path_ids = [id + 1 for id in range(k)] * len(od_pairs)\n",
    "path_size = [len(paths[od][i]) if i < len(paths[od]) else 0 for od in od_pairs for i in range(k)]\n",
    "od_origins = [int(od_pairs[id].split('-')[0]) for id in range(len(od_pairs)) for i in range(k)]\n",
    "od_destinations = [int(od_pairs[id].split('-')[1]) for id in range(len(od_pairs)) for i in range(k)]\n",
    "\n",
    "\n",
    "# Data\n",
    "reduced_delta_data = {\n",
    "    'od' : od_ids,\n",
    "    'path' : path_ids,\n",
    "    'path_size' : path_size,\n",
    "    'w_start' : start_index,\n",
    "    'w_finish' : finish_index,\n",
    "    'origin' : od_origins,\n",
    "    'destination' : od_destinations\n",
    "}\n",
    "\n",
    "# DataFrame\n",
    "reduced_delta_df = pd.DataFrame(data=reduced_delta_data)\n",
    "#reduced_delta_df"
   ]
  },
  {
   "cell_type": "code",
   "execution_count": 25,
   "id": "fa83b7f8-5bb7-409d-aa40-a7dc5782ea64",
   "metadata": {},
   "outputs": [
    {
     "name": "stdout",
     "output_type": "stream",
     "text": [
      "Expected Reduction in Dimensionality: from 6600 elements to 685 elements. A 89.62 % reduction\n"
     ]
    }
   ],
   "source": [
    "orig = delta_df.shape[0]\n",
    "redu = len(od_path_edge)\n",
    "\n",
    "print(f'Expected Reduction in Dimensionality: from {orig} elements to {redu} elements. A {((1 - (redu/orig)) * 100):.2f} % reduction')"
   ]
  },
  {
   "cell_type": "markdown",
   "id": "02c7f953-9cd9-45d0-aa7c-28d1e2d694bb",
   "metadata": {},
   "source": [
    "#### Reduce Dimensionality of $\\Delta$ Matrix"
   ]
  },
  {
   "cell_type": "code",
   "execution_count": 26,
   "id": "1acd4c2b-aa59-459b-a618-bfbc5ddd3cc1",
   "metadata": {},
   "outputs": [],
   "source": [
    "# Initialize Vectors\n",
    "route_list = []\n",
    "\n",
    "edge_list = []\n",
    "start_pos = []\n",
    "end_pos = []\n",
    "\n",
    "# Initialize Counter\n",
    "e_start = 0\n",
    "\n",
    "# Iterate over edges\n",
    "for i, edge in enumerate(list(G.edges())):\n",
    "    \n",
    "    # Add 1\n",
    "    #e_start += 1\n",
    "    \n",
    "    # Append Data\n",
    "    edge_list.append(i+1)\n",
    "    start_pos.append(e_start+1)\n",
    "    \n",
    "    # Iterate over routes\n",
    "    for route in routes:\n",
    "    \n",
    "        # Transform route from nodes to edges\n",
    "        route_edges = path_nodes_to_edges(route)\n",
    "\n",
    "        # If edge in route\n",
    "        if (edge in route_edges) or (edge[::-1] in route_edges):\n",
    "            \n",
    "            # Add 1 to counter\n",
    "            e_start += 1\n",
    "            \n",
    "            # Find route ID\n",
    "            route_id = route_df[route_df.sequence == str(route)].id.values[0]\n",
    "\n",
    "            # Append Data\n",
    "            route_list.append(route_id)\n",
    "            \n",
    "            \n",
    "    \n",
    "    # Append Finish\n",
    "    end_pos.append(e_start)"
   ]
  },
  {
   "cell_type": "code",
   "execution_count": 27,
   "id": "2cdfd752-88d0-45c9-9931-cae25effbc36",
   "metadata": {},
   "outputs": [
    {
     "data": {
      "text/plain": [
       "382"
      ]
     },
     "execution_count": 27,
     "metadata": {},
     "output_type": "execute_result"
    }
   ],
   "source": [
    "len(route_list)"
   ]
  },
  {
   "cell_type": "code",
   "execution_count": null,
   "id": "769f4529-145c-4afa-a954-81d3cbabce58",
   "metadata": {},
   "outputs": [],
   "source": [
    "# CSVs\n",
    "# nodes_df.to_csv('exports/instance_02/nodes.csv', index=False, sep=',')\n",
    "# edges_df.to_csv('exports/instance_02/edges.csv', index=False, sep=',')\n",
    "# od_df.to_csv('exports/instance_02/od_matrix.csv', index=False, sep=',')\n",
    "# DELTA_df.to_csv('exports/instance_02/big_delta.csv', index=False, sep=',')\n",
    "# delta_df.to_csv('exports/instance_02/small_delta.csv', index=False, sep=',')\n",
    "# route_df.to_csv('exports/instance_02/routes.csv', index=False, sep=',')\n",
    "# paths_df.to_csv('exports/instance_02/paths.csv', index=False, sep=',')"
   ]
  },
  {
   "cell_type": "markdown",
   "id": "ee9590ca-586f-4f1b-8c0a-f75044a72293",
   "metadata": {},
   "source": [
    "### Manual Array Initialization"
   ]
  },
  {
   "cell_type": "code",
   "execution_count": 29,
   "id": "3a40866c-5bb8-4f6e-a587-d45b4226849c",
   "metadata": {},
   "outputs": [],
   "source": [
    "instance = 'instance_02'"
   ]
  },
  {
   "cell_type": "code",
   "execution_count": 30,
   "id": "a0698563-66d7-445a-a5c1-5ac0d378a85a",
   "metadata": {},
   "outputs": [
    {
     "name": "stdout",
     "output_type": "stream",
     "text": [
      "OD Pairs  = 66\n",
      "Routes    = 110\n",
      "Nodes     = 9\n",
      "Edges     = 10\n",
      "Max_Paths = 10\n"
     ]
    }
   ],
   "source": [
    "sizes = [len(G.nodes()), len(G.edges()), len(od_pairs), len(routes), k, len(od_path_edge), len(route_list), len(y_fix_od)] \n",
    "\n",
    "print(f'OD Pairs  = {len(od_pairs)}')\n",
    "print(f'Routes    = {len(routes)}')\n",
    "print(f'Nodes     = {len(G.nodes())}')\n",
    "print(f'Edges     = {len(G.edges())}')\n",
    "print(f'Max_Paths = {k}')"
   ]
  },
  {
   "cell_type": "code",
   "execution_count": null,
   "id": "9e5f159d-f101-42df-ba02-c5b05112df72",
   "metadata": {},
   "outputs": [],
   "source": [
    "# return_xpress_int_txt(sizes, filename=f'exports/{instance}/array_sizes.txt')"
   ]
  },
  {
   "cell_type": "markdown",
   "id": "bad9bac0-353e-432f-8933-7b27eb8dcfc2",
   "metadata": {},
   "source": [
    "**Node Data**"
   ]
  },
  {
   "cell_type": "code",
   "execution_count": null,
   "id": "1428d4e6-f43c-433f-9ca6-ecb18388c908",
   "metadata": {},
   "outputs": [],
   "source": [
    "# return_xpress_int_txt(nodes_df.id, filename=f'exports/{instance}/node_id.txt')\n",
    "# return_xpress_str_txt(nodes_df.id, filename=f'exports/{instance}/node_name.txt')"
   ]
  },
  {
   "cell_type": "markdown",
   "id": "2743f3c0-9bcc-465d-aaa1-c4ee34d03c67",
   "metadata": {},
   "source": [
    "**Edge Data**"
   ]
  },
  {
   "cell_type": "code",
   "execution_count": 47,
   "id": "71d4254a-7ac4-4c0b-bdb3-87038a34c9f6",
   "metadata": {},
   "outputs": [],
   "source": [
    "uv = list(edges_df.origin.values) + list(edges_df.destination.values)"
   ]
  },
  {
   "cell_type": "code",
   "execution_count": null,
   "id": "b44a27cd-0b68-4d2d-a460-df84effeacce",
   "metadata": {},
   "outputs": [],
   "source": [
    "# return_xpress_int_txt(edges_df.id, filename=f'exports/{instance}/edge_id.txt')\n",
    "# return_xpress_int_txt(uv, filename=f'exports/{instance}/edge_uv.txt')\n",
    "# return_xpress_int_txt(edges_df.length, filename=f'exports/{instance}/edge_length.txt')\n",
    "# return_xpress_int_txt(edges_df.travel_time, filename=f'exports/{instance}/edge_time.txt')\n",
    "# return_xpress_int_txt(edges_df.capacity, filename=f'exports/{instance}/edge_capacity.txt')"
   ]
  },
  {
   "cell_type": "markdown",
   "id": "1846395c-3f93-4909-80e7-bab8082b7a97",
   "metadata": {},
   "source": [
    "**OD Matrix Data**"
   ]
  },
  {
   "cell_type": "code",
   "execution_count": null,
   "id": "0095f5cd-b014-449d-98fc-36961483ec0d",
   "metadata": {},
   "outputs": [],
   "source": [
    "# return_xpress_int_txt(od_df.origin, filename=f'exports/{instance}/origins.txt')\n",
    "# return_xpress_int_txt(od_df.destination, filename=f'exports/{instance}/destinations.txt')\n",
    "# return_xpress_int_txt(od_df.demand, filename=f'exports/{instance}/demand.txt')"
   ]
  },
  {
   "cell_type": "markdown",
   "id": "d8fa51ac-6326-4ebf-b243-30c0fedc15c2",
   "metadata": {},
   "source": [
    "**Routes**"
   ]
  },
  {
   "cell_type": "code",
   "execution_count": null,
   "id": "ef02c110-dd7b-4541-8187-f4bcece35cf5",
   "metadata": {},
   "outputs": [],
   "source": [
    "frequencies = [1 for route in routes]"
   ]
  },
  {
   "cell_type": "code",
   "execution_count": null,
   "id": "8944e6a7-4929-487a-950e-bb712764b87a",
   "metadata": {},
   "outputs": [],
   "source": [
    "# return_xpress_str_txt(route_df.sequence.values, filename=f'exports/{instance}/route_sequence.txt')\n",
    "# return_xpress_int_txt(route_df.length.values, filename=f'exports/{instance}/route_length.txt')\n",
    "# return_xpress_int_txt(frequencies, filename=f'exports/{instance}/route_frequency.txt')"
   ]
  },
  {
   "cell_type": "markdown",
   "id": "69b1974b-98f2-4711-8f19-65a989411330",
   "metadata": {},
   "source": [
    "**Paths**"
   ]
  },
  {
   "cell_type": "code",
   "execution_count": null,
   "id": "dffda0ee-c5b2-4773-bcc3-a9c59a5350e9",
   "metadata": {},
   "outputs": [],
   "source": [
    "# return_xpress_str_txt(paths_df.sequence.values, filename=f'exports/{instance}/path_sequence.txt')\n",
    "# return_xpress_int_txt(paths_df.length, filename=f'exports/{instance}/path_length.txt')"
   ]
  },
  {
   "cell_type": "markdown",
   "id": "f01d40df-6212-444e-8325-70a32aa33f1b",
   "metadata": {},
   "source": [
    "**Y Preprocessing**"
   ]
  },
  {
   "cell_type": "code",
   "execution_count": null,
   "id": "7123d009-0e14-4ea3-b786-7a3c762b4a61",
   "metadata": {},
   "outputs": [],
   "source": [
    "# return_xpress_int_txt(y_fix_od, filename=f'exports/{instance}/yfix_origin_destination.txt')\n",
    "# return_xpress_int_txt(y_fix_r, filename=f'exports/{instance}/yfix_routes.txt')"
   ]
  },
  {
   "cell_type": "markdown",
   "id": "96ad4f47-213a-4831-aafa-950b718962c4",
   "metadata": {},
   "source": [
    "**$\\delta$ Dimensionality Redux**"
   ]
  },
  {
   "cell_type": "code",
   "execution_count": null,
   "id": "042112c2-f2a8-4e45-9d43-3792af972da3",
   "metadata": {},
   "outputs": [],
   "source": [
    "# return_xpress_int_txt(od_path_edge, filename=f'exports/{instance}/small_delta.txt')\n",
    "# return_xpress_int_txt(reduced_delta_df.w_start, filename=f'exports/{instance}/small_delta_start.txt')\n",
    "# return_xpress_int_txt(reduced_delta_df.w_finish, filename=f'exports/{instance}/small_delta_finish.txt')"
   ]
  },
  {
   "cell_type": "markdown",
   "id": "424aaa03-a2cb-4beb-afb2-b90815490dd4",
   "metadata": {},
   "source": [
    "**$\\Delta$ Dimensionality Redux**"
   ]
  },
  {
   "cell_type": "code",
   "execution_count": null,
   "id": "c0124974-c07a-4bf8-b255-7c5e2a585d8e",
   "metadata": {},
   "outputs": [],
   "source": [
    "# return_xpress_int_txt(route_list, filename=f'exports/{instance}/big_delta.txt')\n",
    "# return_xpress_int_txt(start_pos, filename=f'exports/{instance}/big_delta_start.txt')\n",
    "# return_xpress_int_txt(end_pos, filename=f'exports/{instance}/big_delta_finish.txt')"
   ]
  }
 ],
 "metadata": {
  "kernelspec": {
   "display_name": "Python 3",
   "language": "python",
   "name": "python3"
  },
  "language_info": {
   "codemirror_mode": {
    "name": "ipython",
    "version": 3
   },
   "file_extension": ".py",
   "mimetype": "text/x-python",
   "name": "python",
   "nbconvert_exporter": "python",
   "pygments_lexer": "ipython3",
   "version": "3.7.10"
  }
 },
 "nbformat": 4,
 "nbformat_minor": 5
}
