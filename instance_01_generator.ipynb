{
 "cells": [
  {
   "cell_type": "code",
   "execution_count": 1,
   "id": "dedebe5e-1e12-432b-b7f9-c55ee2682634",
   "metadata": {},
   "outputs": [],
   "source": [
    "# Imports\n",
    "import numpy as np\n",
    "import pandas as pd\n",
    "import matplotlib.pyplot as plt\n",
    "import networkx as nx\n",
    "import osmnx as ox\n",
    "import geopandas as gpd\n",
    "import itertools\n",
    "import time\n",
    "import random\n",
    "import ast"
   ]
  },
  {
   "cell_type": "code",
   "execution_count": 2,
   "id": "f87346b9-e87f-4129-9f04-54c07495074b",
   "metadata": {},
   "outputs": [],
   "source": [
    "# Utils & Functions\n",
    "from utils import *\n",
    "from hrga import *\n",
    "from tndp import *\n",
    "from export import *\n",
    "from plot import *"
   ]
  },
  {
   "cell_type": "markdown",
   "id": "a256fcff-dec6-43a4-910f-c5b3c93b0107",
   "metadata": {},
   "source": [
    "### Graph Structure for Instance 1 (Toy Instance)\n",
    "\n",
    "Example taken from Guan et al. (2006). 9-node network used to test basic functioning of model and restrictions. There is only one possible path from any origin to any destination."
   ]
  },
  {
   "cell_type": "code",
   "execution_count": 3,
   "id": "bc3f7e42-e578-48b4-97ef-7b1e131e8669",
   "metadata": {},
   "outputs": [],
   "source": [
    "# Generating Mandl's Network\n",
    "\n",
    "# Create graph\n",
    "G = nx.Graph()\n",
    "\n",
    "# Node Positions\n",
    "node_positions = [(-2, 1), (-2, -1), (-1, 0), (0, 1), (0, 0), (0, -1), (1, 0), (2, 1), (2, -1)]\n",
    "\n",
    "# Add nodes\n",
    "for i in range(9):\n",
    "    G.add_node(i+1, pos=node_positions[i])\n",
    "    \n",
    "\n",
    "    \n",
    "# Add edges\n",
    "edge_list =    [(1, 3), (2, 3), (3, 5), (5, 4), (5, 6), (5, 7), (7, 8), (7, 9)]\n",
    "edge_lengths = [    10,     10,     10,     10,     10,     10,     10,     10]\n",
    "\n",
    "for i in range(len(edge_list)):\n",
    "    G.add_edge(*edge_list[i], length=edge_lengths[i])"
   ]
  },
  {
   "cell_type": "code",
   "execution_count": 4,
   "id": "accebaf9-1864-4ca8-adf4-805882acc92c",
   "metadata": {},
   "outputs": [
    {
     "data": {
      "image/png": "[encoded data removed]",
      "text/plain": [
       "<Figure size 720x360 with 1 Axes>"
      ]
     },
     "metadata": {},
     "output_type": "display_data"
    }
   ],
   "source": [
    "# Plot Graph\n",
    "f, ax = plt.subplots(figsize=(10, 5))\n",
    "\n",
    "pos = nx.get_node_attributes(G, 'pos')\n",
    "\n",
    "node_plot = nx.draw_networkx_nodes(G, pos, node_color='white', node_size=500)\n",
    "edges_plot = nx.draw_networkx_edges(G, pos, width=2)\n",
    "labels_plot = nx.draw_networkx_labels(G, pos)\n",
    "\n",
    "# Change border\n",
    "node_plot.set_edgecolor('k')\n",
    "node_plot.set_linewidth(2)\n",
    "\n",
    "# Display\n",
    "plt.show()"
   ]
  },
  {
   "cell_type": "markdown",
   "id": "93248f10-2b87-4a2a-b821-9e6ec7f50a5a",
   "metadata": {},
   "source": [
    "#### Generating All Possible Routes\n",
    "\n",
    "Generate all possible routes by enumerating shortest paths from any origin $i$ to any destination $j$. In a more realistic set, we would consider the $k$ shortest paths. This graph, however, has only 1 possible path from any origin to any destination."
   ]
  },
  {
   "cell_type": "code",
   "execution_count": 5,
   "id": "50d26d01-3fa4-4649-b292-934b841ad6be",
   "metadata": {},
   "outputs": [],
   "source": [
    "# Initialize List\n",
    "routes = []\n",
    "\n",
    "# Iterate\n",
    "for origin in list(G.nodes()):\n",
    "    for destination in list(G.nodes()):\n",
    "        \n",
    "        # If origin is not destination...\n",
    "        if origin != destination:\n",
    "             routes.append(nx.shortest_path(G, origin, destination, weight='length'))"
   ]
  },
  {
   "cell_type": "code",
   "execution_count": 6,
   "id": "352b0148-0f6c-44f5-81e1-6f05c9afe942",
   "metadata": {},
   "outputs": [
    {
     "name": "stdout",
     "output_type": "stream",
     "text": [
      "Number of feasible routes (after removing simetrical routes): 36\n"
     ]
    }
   ],
   "source": [
    "# Apply function\n",
    "unique = unique_routes(routes)\n",
    "print(f'Number of feasible routes (after removing simetrical routes): {len(unique)}')"
   ]
  },
  {
   "cell_type": "markdown",
   "id": "2971ee7b-142d-49e5-abf6-df1e20597989",
   "metadata": {},
   "source": [
    "#### Generate Demand Matrix\n",
    "\n",
    "Generate a demand matrix for all OD pairs."
   ]
  },
  {
   "cell_type": "code",
   "execution_count": 9,
   "id": "a5232389-90ed-4510-a6f9-8f11800268bc",
   "metadata": {},
   "outputs": [
    {
     "name": "stdout",
     "output_type": "stream",
     "text": [
      "[[0 5 5 5 5 5 5 5 5]\n",
      " [5 0 5 5 5 5 5 5 5]\n",
      " [5 5 0 5 5 5 5 5 5]\n",
      " [5 5 5 0 5 5 5 5 5]\n",
      " [5 5 5 5 0 5 5 5 5]\n",
      " [5 5 5 5 5 0 5 5 5]\n",
      " [5 5 5 5 5 5 0 5 5]\n",
      " [5 5 5 5 5 5 5 0 5]\n",
      " [5 5 5 5 5 5 5 5 0]]\n"
     ]
    }
   ],
   "source": [
    "# Initialize matrix with full demand\n",
    "demand_matrix = np.full((len(G.nodes()), len(G.nodes())), 5)\n",
    "\n",
    "# Remove diagonal\n",
    "np.fill_diagonal(demand_matrix, 0)\n",
    "\n",
    "# Print\n",
    "print(demand_matrix)"
   ]
  },
  {
   "cell_type": "markdown",
   "id": "aa895a30-61c8-4da1-b40b-aa72aa129114",
   "metadata": {},
   "source": [
    "#### Generate $\\Delta$ Matrix\n",
    "\n",
    "Generate $\\Delta_{er}$ matrix. This matrix tells if edge $e \\in E$ is part of route $r \\in R$."
   ]
  },
  {
   "cell_type": "code",
   "execution_count": 10,
   "id": "fcdb88cd-9a07-4bf4-9fd1-2a4e11186ad1",
   "metadata": {},
   "outputs": [
    {
     "name": "stdout",
     "output_type": "stream",
     "text": [
      "DELTA Matrix: \n",
      "\n",
      "[[1 1 0 0 0 0 0 0]\n",
      " [1 0 0 0 0 0 0 0]\n",
      " [1 0 1 1 0 0 0 0]\n",
      " [1 0 1 0 0 0 0 0]\n",
      " [1 0 1 0 1 0 0 0]\n",
      " [1 0 1 0 0 1 0 0]\n",
      " [1 0 1 0 0 1 1 0]\n",
      " [1 0 1 0 0 1 0 1]\n",
      " [0 1 0 0 0 0 0 0]\n",
      " [0 1 1 1 0 0 0 0]\n",
      " [0 1 1 0 0 0 0 0]\n",
      " [0 1 1 0 1 0 0 0]\n",
      " [0 1 1 0 0 1 0 0]\n",
      " [0 1 1 0 0 1 1 0]\n",
      " [0 1 1 0 0 1 0 1]\n",
      " [0 0 1 1 0 0 0 0]\n",
      " [0 0 1 0 0 0 0 0]\n",
      " [0 0 1 0 1 0 0 0]\n",
      " [0 0 1 0 0 1 0 0]\n",
      " [0 0 1 0 0 1 1 0]\n",
      " [0 0 1 0 0 1 0 1]\n",
      " [0 0 0 1 0 0 0 0]\n",
      " [0 0 0 1 1 0 0 0]\n",
      " [0 0 0 1 0 1 0 0]\n",
      " [0 0 0 1 0 1 1 0]\n",
      " [0 0 0 1 0 1 0 1]\n",
      " [0 0 0 0 1 0 0 0]\n",
      " [0 0 0 0 0 1 0 0]\n",
      " [0 0 0 0 0 1 1 0]\n",
      " [0 0 0 0 0 1 0 1]\n",
      " [0 0 0 0 1 1 0 0]\n",
      " [0 0 0 0 1 1 1 0]\n",
      " [0 0 0 0 1 1 0 1]\n",
      " [0 0 0 0 0 0 1 0]\n",
      " [0 0 0 0 0 0 0 1]\n",
      " [0 0 0 0 0 0 1 1]]\n"
     ]
    }
   ],
   "source": [
    "DELTA = generate_DELTA_matrix(G, routes)\n",
    "print(f'DELTA Matrix: \\n')\n",
    "print(DELTA)"
   ]
  },
  {
   "cell_type": "markdown",
   "id": "bfe3790e-4bcb-4360-a177-39fffcda5c83",
   "metadata": {},
   "source": [
    "#### Enumerate Paths\n",
    "\n",
    "Since we are working with a small instance and all origin-destination pairs have only one possible path, we are going to enumerate all possible paths from all origins and all destinations. If we were working with an instance that allowed for multiple paths, we would calculate the $k$ shortest paths from any origin to any destination.\n",
    "\n",
    "Since there is only one path from any origin to any destination, the set of possible paths is identical to the set of routes."
   ]
  },
  {
   "cell_type": "code",
   "execution_count": 11,
   "id": "ed210a00-c325-463a-87f4-5e14b1be381a",
   "metadata": {},
   "outputs": [],
   "source": [
    "# Generate OD Pairs List\n",
    "od_pairs = generate_od_pair_list(G, demand_matrix)"
   ]
  },
  {
   "cell_type": "code",
   "execution_count": 12,
   "id": "5790e7bb-407d-4d10-9bda-5cac35aeaa26",
   "metadata": {},
   "outputs": [],
   "source": [
    "# Generate Paths\n",
    "paths, num_paths = generate_paths(G, od_pairs)"
   ]
  },
  {
   "cell_type": "markdown",
   "id": "17c4f953-ac03-452c-bf37-9b6223e72762",
   "metadata": {},
   "source": [
    "#### Generate $\\delta$ Tensor\n",
    "\n",
    "The $\\delta_{ep}^{od}$ tensor indicates if the edge $e$ is used on path $p$ chosen from origin $o$ to destination $d$. It allows for the coupling of routes and paths in the optimization model.\n",
    "\n",
    "This matrix has shape $[od][k][e]$"
   ]
  },
  {
   "cell_type": "code",
   "execution_count": 13,
   "id": "90af4439-35bf-4712-8756-12854652097a",
   "metadata": {},
   "outputs": [],
   "source": [
    "# Generate Matrix\n",
    "delta = generate_delta_matrix(G, od_pairs, num_paths, paths)\n",
    "#delta"
   ]
  },
  {
   "cell_type": "markdown",
   "id": "04f206c2-2b3b-4697-90b4-6ee93a651a62",
   "metadata": {},
   "source": [
    "#### Generate Outputs"
   ]
  },
  {
   "cell_type": "code",
   "execution_count": 14,
   "id": "d051a5ad-395a-43de-916a-a1da9897d567",
   "metadata": {},
   "outputs": [],
   "source": [
    "# Nodes\n",
    "node_ids = list(G.nodes())\n",
    "node_x = [G.nodes[node]['pos'][0] for node in G.nodes()]\n",
    "node_y = [G.nodes[node]['pos'][1] for node in G.nodes()]\n",
    "\n",
    "\n",
    "# Data\n",
    "node_data = {\n",
    "    'id' : node_ids,\n",
    "    'x' : node_x,\n",
    "    'y' : node_y,\n",
    "}\n",
    "\n",
    "# Dataframe\n",
    "nodes_df = pd.DataFrame(data=node_data)\n",
    "\n",
    "# Print\n",
    "#nodes_df"
   ]
  },
  {
   "cell_type": "code",
   "execution_count": 15,
   "id": "8d3a4534-bee9-4f03-9b37-3ac115fffaf1",
   "metadata": {},
   "outputs": [],
   "source": [
    "# Edges\n",
    "edge_ids = [id + 1  for id in range(len(G.edges()))]\n",
    "edge_origins = [u for u, v in G.edges()]\n",
    "edge_destinations = [v for u, v in G.edges()]\n",
    "edge_lengths = [G[u][v]['length'] for u, v in G.edges()]\n",
    "edge_travel_time = [G[u][v]['length'] for u, v in G.edges()]\n",
    "edge_capacity = [10 for edge in range(len(G.edges()))]\n",
    "\n",
    "# Data\n",
    "edge_data = {\n",
    "    'id' : edge_ids,\n",
    "    'origin' : edge_origins,\n",
    "    'destination' : edge_destinations,\n",
    "    'length' : edge_lengths,\n",
    "    'travel_time' : edge_travel_time,\n",
    "    'capacity' : edge_capacity\n",
    "}\n",
    "\n",
    "# Dataframe\n",
    "edges_df = pd.DataFrame(data=edge_data)\n",
    "\n",
    "# Print\n",
    "#edges_df"
   ]
  },
  {
   "cell_type": "code",
   "execution_count": 16,
   "id": "7364770a-17c2-480f-bc3c-a45df69eb8bd",
   "metadata": {},
   "outputs": [],
   "source": [
    "# OD Matrix\n",
    "od_ids = [id + 1 for id in range(len(od_pairs))]\n",
    "od_origin = [int(od.split('-')[0]) for od in od_pairs]\n",
    "od_destination = [int(od.split('-')[1]) for od in od_pairs]\n",
    "od_demand = [demand_matrix[int(od.split('-')[0]) - 1][int(od.split('-')[1]) - 1] for od in od_pairs]\n",
    "od_paths = [num_paths[od] for od in od_pairs]\n",
    "\n",
    "# Data\n",
    "od_data = {\n",
    "    'id' : od_ids,\n",
    "    'origin' : od_origin,\n",
    "    'destination' : od_destination,\n",
    "    'demand' : od_demand,\n",
    "    'paths' : od_paths\n",
    "}\n",
    "\n",
    "# Dataframe\n",
    "od_df = pd.DataFrame(data=od_data)\n",
    "#od_df"
   ]
  },
  {
   "cell_type": "code",
   "execution_count": 17,
   "id": "faf7bf94-a2d3-43fb-9c67-e98365f08316",
   "metadata": {},
   "outputs": [],
   "source": [
    "# Routes\n",
    "route_ids = [id + 1 for id in range(len(routes))]\n",
    "route_sequences = [str(sequence) for sequence in routes]\n",
    "route_length = [nx.path_weight(G, route, weight='length') for route in routes]\n",
    "route_stops = [len(route) for route in routes]\n",
    "\n",
    "# Data\n",
    "route_data = {\n",
    "    'id' : route_ids,\n",
    "    'sequence' : route_sequences,\n",
    "    'length' : route_length,\n",
    "    'num_stops' : route_stops\n",
    "}\n",
    "\n",
    "route_df = pd.DataFrame(data=route_data)\n",
    "#route_df"
   ]
  },
  {
   "cell_type": "code",
   "execution_count": 18,
   "id": "cec231d2-0dc9-43f1-abaa-cfa724dffd59",
   "metadata": {},
   "outputs": [],
   "source": [
    "k = 10\n",
    "\n",
    "# Paths\n",
    "paths_id = [id + 1 for id in range(len(paths) * k)]\n",
    "paths_sequence = [str(paths[od][i]) if i < len(paths[od]) else '' for od in paths for i in range(k)]\n",
    "paths_length = [nx.path_weight(G, paths[od][i], weight='length') if i < len(paths[od]) else 0 for od in paths for i in range(k)]\n",
    "paths_stops = [len(paths[od][i]) if i < len(paths[od]) else 0 for od in paths for i in range(k)]\n",
    "\n",
    "# Data\n",
    "paths_data = {\n",
    "    'id' : paths_id,\n",
    "    'sequence' : paths_sequence,\n",
    "    'length' : paths_length,\n",
    "    'num_stops' : paths_stops\n",
    "}\n",
    "\n",
    "paths_df = pd.DataFrame(data=paths_data)\n",
    "#paths_df"
   ]
  },
  {
   "cell_type": "code",
   "execution_count": 19,
   "id": "25a61be5-84ca-498a-b217-9a539ded182a",
   "metadata": {},
   "outputs": [],
   "source": [
    "# DELTA Matrix\n",
    "DELTA_value = [edge for route in DELTA for edge in route]\n",
    "edge_ids = [id + 1 for id in range(len(G.edges()))] * len(routes)\n",
    "route_ids = [id + 1 for id in range(len(routes)) for i in range(len(G.edges()))]\n",
    "\n",
    "# Data\n",
    "DELTA_data = {\n",
    "    'route_id' : route_ids,\n",
    "    'edge_id' : edge_ids,    \n",
    "    'DELTA' : DELTA_value\n",
    "}\n",
    "\n",
    "# Dataframe\n",
    "DELTA_df = pd.DataFrame(data=DELTA_data)\n",
    "#DELTA_df"
   ]
  },
  {
   "cell_type": "code",
   "execution_count": 20,
   "id": "e991d331-c2b0-4393-ad8c-90c067df22c2",
   "metadata": {},
   "outputs": [],
   "source": [
    "k = 10\n",
    "\n",
    "# delta Matrix\n",
    "delta_value = [edge for od in delta for path in od for edge in path]\n",
    "od_ids = [id + 1 for id in range(len(od_pairs)) for i in range(k) for j in range(len(G.edges()))]\n",
    "path_ids = [id + 1 for id in range(k) for edge in range(len(G.edges()))] * len(od_pairs)\n",
    "edge_ids = [id + 1 for id in range(len(G.edges()))] * k * len(od_pairs)\n",
    "\n",
    "od_origins = [int(od_pairs[id].split('-')[0]) for id in range(len(od_pairs)) for i in range(k) for j in range(len(G.edges()))]\n",
    "od_destinations = [int(od_pairs[id].split('-')[1]) for id in range(len(od_pairs)) for i in range(k) for j in range(len(G.edges()))]\n",
    "\n",
    "# Data\n",
    "delta_data = {\n",
    "    'od' : od_ids,\n",
    "    'path' : path_ids,\n",
    "    'edge' : edge_ids,\n",
    "    'delta' : delta_value,\n",
    "    'origin' : od_origins,\n",
    "    'destination' : od_destinations\n",
    "}\n",
    "\n",
    "# DataFrame\n",
    "delta_df = pd.DataFrame(data=delta_data)\n",
    "#delta_df"
   ]
  },
  {
   "cell_type": "code",
   "execution_count": 21,
   "id": "769f4529-145c-4afa-a954-81d3cbabce58",
   "metadata": {},
   "outputs": [],
   "source": [
    "# CSVs\n",
    "# nodes_df.to_csv('exports/instance_01/nodes.csv', index=False, sep=',')\n",
    "# edges_df.to_csv('exports/instance_01/edges.csv', index=False, sep=',')\n",
    "# od_df.to_csv('exports/instance_01/od_matrix.csv', index=False, sep=',')\n",
    "# DELTA_df.to_csv('exports/instance_01/big_delta.csv', index=False, sep=',')\n",
    "# delta_df.to_csv('exports/instance_01/small_delta.csv', index=False, sep=',')\n",
    "# route_df.to_csv('exports/instance_01/routes.csv', index=False, sep=',')\n",
    "# paths_df.to_csv('exports/instance_01/paths.csv', index=False, sep=',')"
   ]
  },
  {
   "cell_type": "markdown",
   "id": "22ada71c-f0ec-4183-a2be-0f6fd65b9942",
   "metadata": {},
   "source": [
    "#### Preprocess Y Variable"
   ]
  },
  {
   "cell_type": "code",
   "execution_count": 22,
   "id": "f22bed43-1e50-499f-bc28-6b526bd1ba4b",
   "metadata": {},
   "outputs": [
    {
     "name": "stdout",
     "output_type": "stream",
     "text": [
      "y_od_r original size: 2592\n",
      "fixed_variables: 984\n",
      "y_od_r simplified size: 1608\n"
     ]
    }
   ],
   "source": [
    "# Vectors\n",
    "y_fix_od = []\n",
    "y_fix_r  = []\n",
    "\n",
    "# Iterate over OD pairs\n",
    "for i, row in od_df.iterrows():\n",
    "    \n",
    "    # Iterate over routes\n",
    "    for i, route in enumerate(routes):\n",
    "        \n",
    "        # If neither origin, nor destination in route, add do vector\n",
    "        if (row['origin'] not in route) and (row['destination'] not in route):\n",
    "            \n",
    "            y_fix_od.append(row['id'])\n",
    "            y_fix_r.append(i+1)\n",
    "            \n",
    "# Print Results\n",
    "print(f'y_od_r original size: {od_df.shape[0] * len(routes)}')\n",
    "print(f'fixed_variables: {len(y_fix_od)}')\n",
    "print(f'y_od_r simplified size: {(od_df.shape[0] * len(routes)) - len(y_fix_od)}')"
   ]
  },
  {
   "cell_type": "markdown",
   "id": "bc094916-564c-4d48-8860-10a79122aad0",
   "metadata": {},
   "source": [
    "#### Reduce Dimensionality of $\\delta$ Matrix"
   ]
  },
  {
   "cell_type": "code",
   "execution_count": 23,
   "id": "21b6e7d7-1ae5-4887-8fa1-88549a60ed70",
   "metadata": {},
   "outputs": [
    {
     "name": "stdout",
     "output_type": "stream",
     "text": [
      "iterating over od pair 1/72\n"
     ]
    }
   ],
   "source": [
    "# Initialize W Vector\n",
    "od_path_edge = []\n",
    "start_index  = []\n",
    "finish_index = []\n",
    "\n",
    "# Counter\n",
    "i = 0\n",
    "\n",
    "# Rename edges_df\n",
    "df = edges_df\n",
    "\n",
    "# Iterate over OD pairs\n",
    "for j, od in enumerate(od_pairs):\n",
    "    \n",
    "    i += 1\n",
    "    \n",
    "    if j % 100 == 0:\n",
    "        print(f'iterating over od pair {j+1}/{len(od_pairs)}' )\n",
    "    \n",
    "    # Iterate over paths\n",
    "    for k in range(10):# enumerate(paths[od]):\n",
    "\n",
    "        # If index in range\n",
    "        if k < len(paths[od]):\n",
    "           \n",
    "            # Convert path to edges\n",
    "            edges_path = path_nodes_to_edges(paths[od][k])\n",
    "\n",
    "            # Add Starting Index\n",
    "            start_index.append(i)\n",
    "\n",
    "            # I\n",
    "            i += len(edges_path) - 1\n",
    "\n",
    "            # Add Ending Index\n",
    "            finish_index.append(i)\n",
    "            \n",
    "            # I\n",
    "            #i += 1 \n",
    "\n",
    "            # Iterate over edges\n",
    "            for edge in edges_path:\n",
    "\n",
    "                # Find edge id\n",
    "                edge_id = df[((df.origin == edge[0]) & (df.destination == edge[1])) | ((df.origin == edge[1]) & (df.destination == edge[0]))].id.values[0]\n",
    "\n",
    "                # Add id to list\n",
    "                od_path_edge.append(edge_id)            \n",
    "        \n",
    "        # If out of range...\n",
    "        else:\n",
    "            \n",
    "            # Add Starting Index\n",
    "            start_index.append(i)\n",
    "\n",
    "            # Add Ending Index\n",
    "            finish_index.append(i)"
   ]
  },
  {
   "cell_type": "code",
   "execution_count": 24,
   "id": "713e1fca-f0a8-4b32-a30a-3ee6b9864e75",
   "metadata": {},
   "outputs": [
    {
     "name": "stdout",
     "output_type": "stream",
     "text": [
      "Length of vector: 168\n"
     ]
    }
   ],
   "source": [
    "print(f'Length of vector: {len(od_path_edge)}')"
   ]
  },
  {
   "cell_type": "code",
   "execution_count": 25,
   "id": "9d07adbc-fb73-4126-91e8-a9a74a9f3609",
   "metadata": {},
   "outputs": [
    {
     "data": {
      "text/html": [
       "<div>\n",
       "<style scoped>\n",
       "    .dataframe tbody tr th:only-of-type {\n",
       "        vertical-align: middle;\n",
       "    }\n",
       "\n",
       "    .dataframe tbody tr th {\n",
       "        vertical-align: top;\n",
       "    }\n",
       "\n",
       "    .dataframe thead th {\n",
       "        text-align: right;\n",
       "    }\n",
       "</style>\n",
       "<table border=\"1\" class=\"dataframe\">\n",
       "  <thead>\n",
       "    <tr style=\"text-align: right;\">\n",
       "      <th></th>\n",
       "      <th>od</th>\n",
       "      <th>path</th>\n",
       "      <th>path_size</th>\n",
       "      <th>w_start</th>\n",
       "      <th>w_finish</th>\n",
       "      <th>origin</th>\n",
       "      <th>destination</th>\n",
       "    </tr>\n",
       "  </thead>\n",
       "  <tbody>\n",
       "    <tr>\n",
       "      <th>0</th>\n",
       "      <td>1</td>\n",
       "      <td>1</td>\n",
       "      <td>3</td>\n",
       "      <td>1</td>\n",
       "      <td>2</td>\n",
       "      <td>1</td>\n",
       "      <td>2</td>\n",
       "    </tr>\n",
       "    <tr>\n",
       "      <th>1</th>\n",
       "      <td>1</td>\n",
       "      <td>2</td>\n",
       "      <td>0</td>\n",
       "      <td>2</td>\n",
       "      <td>2</td>\n",
       "      <td>1</td>\n",
       "      <td>2</td>\n",
       "    </tr>\n",
       "    <tr>\n",
       "      <th>2</th>\n",
       "      <td>1</td>\n",
       "      <td>3</td>\n",
       "      <td>0</td>\n",
       "      <td>2</td>\n",
       "      <td>2</td>\n",
       "      <td>1</td>\n",
       "      <td>2</td>\n",
       "    </tr>\n",
       "    <tr>\n",
       "      <th>3</th>\n",
       "      <td>1</td>\n",
       "      <td>4</td>\n",
       "      <td>0</td>\n",
       "      <td>2</td>\n",
       "      <td>2</td>\n",
       "      <td>1</td>\n",
       "      <td>2</td>\n",
       "    </tr>\n",
       "    <tr>\n",
       "      <th>4</th>\n",
       "      <td>1</td>\n",
       "      <td>5</td>\n",
       "      <td>0</td>\n",
       "      <td>2</td>\n",
       "      <td>2</td>\n",
       "      <td>1</td>\n",
       "      <td>2</td>\n",
       "    </tr>\n",
       "    <tr>\n",
       "      <th>...</th>\n",
       "      <td>...</td>\n",
       "      <td>...</td>\n",
       "      <td>...</td>\n",
       "      <td>...</td>\n",
       "      <td>...</td>\n",
       "      <td>...</td>\n",
       "      <td>...</td>\n",
       "    </tr>\n",
       "    <tr>\n",
       "      <th>715</th>\n",
       "      <td>72</td>\n",
       "      <td>6</td>\n",
       "      <td>0</td>\n",
       "      <td>168</td>\n",
       "      <td>168</td>\n",
       "      <td>9</td>\n",
       "      <td>8</td>\n",
       "    </tr>\n",
       "    <tr>\n",
       "      <th>716</th>\n",
       "      <td>72</td>\n",
       "      <td>7</td>\n",
       "      <td>0</td>\n",
       "      <td>168</td>\n",
       "      <td>168</td>\n",
       "      <td>9</td>\n",
       "      <td>8</td>\n",
       "    </tr>\n",
       "    <tr>\n",
       "      <th>717</th>\n",
       "      <td>72</td>\n",
       "      <td>8</td>\n",
       "      <td>0</td>\n",
       "      <td>168</td>\n",
       "      <td>168</td>\n",
       "      <td>9</td>\n",
       "      <td>8</td>\n",
       "    </tr>\n",
       "    <tr>\n",
       "      <th>718</th>\n",
       "      <td>72</td>\n",
       "      <td>9</td>\n",
       "      <td>0</td>\n",
       "      <td>168</td>\n",
       "      <td>168</td>\n",
       "      <td>9</td>\n",
       "      <td>8</td>\n",
       "    </tr>\n",
       "    <tr>\n",
       "      <th>719</th>\n",
       "      <td>72</td>\n",
       "      <td>10</td>\n",
       "      <td>0</td>\n",
       "      <td>168</td>\n",
       "      <td>168</td>\n",
       "      <td>9</td>\n",
       "      <td>8</td>\n",
       "    </tr>\n",
       "  </tbody>\n",
       "</table>\n",
       "<p>720 rows × 7 columns</p>\n",
       "</div>"
      ],
      "text/plain": [
       "     od  path  path_size  w_start  w_finish  origin  destination\n",
       "0     1     1          3        1         2       1            2\n",
       "1     1     2          0        2         2       1            2\n",
       "2     1     3          0        2         2       1            2\n",
       "3     1     4          0        2         2       1            2\n",
       "4     1     5          0        2         2       1            2\n",
       "..   ..   ...        ...      ...       ...     ...          ...\n",
       "715  72     6          0      168       168       9            8\n",
       "716  72     7          0      168       168       9            8\n",
       "717  72     8          0      168       168       9            8\n",
       "718  72     9          0      168       168       9            8\n",
       "719  72    10          0      168       168       9            8\n",
       "\n",
       "[720 rows x 7 columns]"
      ]
     },
     "execution_count": 25,
     "metadata": {},
     "output_type": "execute_result"
    }
   ],
   "source": [
    "k = 10\n",
    "\n",
    "# delta Matrix\n",
    "od_ids = [id + 1 for id in range(len(od_pairs)) for i in range(k)]\n",
    "path_ids = [id + 1 for id in range(k)] * len(od_pairs)\n",
    "path_size = [len(paths[od][i]) if i < len(paths[od]) else 0 for od in od_pairs for i in range(k)]\n",
    "od_origins = [int(od_pairs[id].split('-')[0]) for id in range(len(od_pairs)) for i in range(k)]\n",
    "od_destinations = [int(od_pairs[id].split('-')[1]) for id in range(len(od_pairs)) for i in range(k)]\n",
    "\n",
    "\n",
    "# Data\n",
    "reduced_delta_data = {\n",
    "    'od' : od_ids,\n",
    "    'path' : path_ids,\n",
    "    'path_size' : path_size,\n",
    "    'w_start' : start_index,\n",
    "    'w_finish' : finish_index,\n",
    "    'origin' : od_origins,\n",
    "    'destination' : od_destinations\n",
    "}\n",
    "\n",
    "# DataFrame\n",
    "reduced_delta_df = pd.DataFrame(data=reduced_delta_data)\n",
    "reduced_delta_df"
   ]
  },
  {
   "cell_type": "code",
   "execution_count": 26,
   "id": "bedea9a3-30c8-4368-9fe1-dd6756b34c4f",
   "metadata": {},
   "outputs": [
    {
     "name": "stdout",
     "output_type": "stream",
     "text": [
      "Expected Reduction in Dimensionality: from 5760 elements to 168 elements. A 97.08 % reduction\n"
     ]
    }
   ],
   "source": [
    "orig = delta_df.shape[0]\n",
    "redu = len(od_path_edge)\n",
    "\n",
    "print(f'Expected Reduction in Dimensionality: from {orig} elements to {redu} elements. A {((1 - (redu/orig)) * 100):.2f} % reduction')"
   ]
  },
  {
   "cell_type": "markdown",
   "id": "fefce720-0e25-4dfc-9d14-c66a1a4ad37d",
   "metadata": {},
   "source": [
    "#### Reduce Dimensionality of $\\Delta$ Matrix"
   ]
  },
  {
   "cell_type": "code",
   "execution_count": 27,
   "id": "d6959631-abeb-4372-8bbe-1ce059a58ebf",
   "metadata": {},
   "outputs": [],
   "source": [
    "# Initialize Vectors\n",
    "route_list = []\n",
    "\n",
    "edge_list = []\n",
    "start_pos = []\n",
    "end_pos = []\n",
    "\n",
    "# Initialize Counter\n",
    "e_start = 0\n",
    "\n",
    "# Iterate over edges\n",
    "for i, edge in enumerate(list(G.edges())):\n",
    "    \n",
    "    # Add 1\n",
    "    #e_start += 1\n",
    "    \n",
    "    # Append Data\n",
    "    edge_list.append(i+1)\n",
    "    start_pos.append(e_start+1)\n",
    "    \n",
    "    # Iterate over routes\n",
    "    for route in routes:\n",
    "    \n",
    "        # Transform route from nodes to edges\n",
    "        route_edges = path_nodes_to_edges(route)\n",
    "\n",
    "        # If edge in route\n",
    "        if (edge in route_edges) or (edge[::-1] in route_edges):\n",
    "            \n",
    "            # Add 1 to counter\n",
    "            e_start += 1\n",
    "            \n",
    "            # Find route ID\n",
    "            route_id = route_df[route_df.sequence == str(route)].id.values[0]\n",
    "\n",
    "            # Append Data\n",
    "            route_list.append(route_id)\n",
    "            \n",
    "            \n",
    "    \n",
    "    # Append Finish\n",
    "    end_pos.append(e_start)"
   ]
  },
  {
   "cell_type": "code",
   "execution_count": 28,
   "id": "76f51ef3-3e0b-403c-a419-efa545bbcd09",
   "metadata": {},
   "outputs": [
    {
     "data": {
      "text/plain": [
       "84"
      ]
     },
     "execution_count": 28,
     "metadata": {},
     "output_type": "execute_result"
    }
   ],
   "source": [
    "len(route_list)"
   ]
  },
  {
   "cell_type": "markdown",
   "id": "ab8c5766-53a8-4f81-b083-4a8c5a2bc069",
   "metadata": {},
   "source": [
    "### Manual Array Initialization"
   ]
  },
  {
   "cell_type": "code",
   "execution_count": 29,
   "id": "e4a6482c-482e-430f-b725-957879ddce7a",
   "metadata": {},
   "outputs": [
    {
     "name": "stdout",
     "output_type": "stream",
     "text": [
      "OD Pairs  = 72\n",
      "Routes    = 36\n",
      "Nodes     = 9\n",
      "Edges     = 8\n",
      "Max_Paths = 10\n"
     ]
    }
   ],
   "source": [
    "sizes = [len(G.nodes()), len(G.edges()), len(od_pairs), len(routes), k, len(od_path_edge), len(route_list), len(y_fix_od)] \n",
    "\n",
    "print(f'OD Pairs  = {len(od_pairs)}')\n",
    "print(f'Routes    = {len(routes)}')\n",
    "print(f'Nodes     = {len(G.nodes())}')\n",
    "print(f'Edges     = {len(G.edges())}')\n",
    "print(f'Max_Paths = {k}')"
   ]
  },
  {
   "cell_type": "code",
   "execution_count": null,
   "id": "dd20234f-76d2-4b1e-bd43-48d58b4fd543",
   "metadata": {},
   "outputs": [],
   "source": [
    "# return_xpress_int_txt(sizes, filename='exports/instance_01/array_sizes.txt')"
   ]
  },
  {
   "cell_type": "markdown",
   "id": "99ee9de0-5353-48e2-80eb-e37ec2a13bb7",
   "metadata": {},
   "source": [
    "**Node Data**"
   ]
  },
  {
   "cell_type": "code",
   "execution_count": null,
   "id": "20b88796-afb3-4e7e-bbb4-383259dc9730",
   "metadata": {},
   "outputs": [],
   "source": [
    "# return_xpress_int_txt(nodes_df.id, filename='exports/instance_01/node_id.txt')\n",
    "# return_xpress_str_txt(nodes_df.id, filename='exports/instance_01/node_name.txt')"
   ]
  },
  {
   "cell_type": "markdown",
   "id": "ac59ab61-a6d4-4b2b-ad0c-9bf9a6902d74",
   "metadata": {},
   "source": [
    "**Edge Data**"
   ]
  },
  {
   "cell_type": "code",
   "execution_count": null,
   "id": "fe824af8-1f56-4c3a-9bb3-14d54d13d12f",
   "metadata": {},
   "outputs": [],
   "source": [
    "uv = list(edges_df.origin.values) + list(edges_df.destination.values)"
   ]
  },
  {
   "cell_type": "code",
   "execution_count": null,
   "id": "1466d37e-1ff0-41c2-bc3c-a7d1d97a41f3",
   "metadata": {},
   "outputs": [],
   "source": [
    "# return_xpress_int_txt(edges_df.id, filename='exports/instance_01/edge_id.txt')\n",
    "# return_xpress_int_txt(uv, filename='exports/instance_01/edge_uv.txt')\n",
    "# return_xpress_int_txt(edges_df.length, filename='exports/instance_01/edge_length.txt')\n",
    "# return_xpress_int_txt(edges_df.travel_time, filename='exports/instance_01/edge_time.txt')\n",
    "# return_xpress_int_txt(edges_df.capacity, filename='exports/instance_01/edge_capacity.txt')"
   ]
  },
  {
   "cell_type": "markdown",
   "id": "af721b52-3cfb-41b2-925c-2170f69041ca",
   "metadata": {},
   "source": [
    "**OD Matrix Data**"
   ]
  },
  {
   "cell_type": "code",
   "execution_count": null,
   "id": "7a8f1479-1918-4d17-858b-f94d8a5c71a4",
   "metadata": {},
   "outputs": [],
   "source": [
    "# return_xpress_int_txt(od_df.origin, filename='exports/instance_01/origins.txt')\n",
    "# return_xpress_int_txt(od_df.destination, filename='exports/instance_01/destinations.txt')\n",
    "# return_xpress_int_txt(od_df.demand, filename='exports/instance_01/demand.txt')"
   ]
  },
  {
   "cell_type": "markdown",
   "id": "2162c396-7dba-4fc0-bbb8-8eaf23a116a7",
   "metadata": {},
   "source": [
    "**Routes**"
   ]
  },
  {
   "cell_type": "code",
   "execution_count": null,
   "id": "0fac00d5-e11c-45d5-b39e-006dec4aa7ad",
   "metadata": {},
   "outputs": [],
   "source": [
    "frequencies = [1 for route in routes]"
   ]
  },
  {
   "cell_type": "code",
   "execution_count": null,
   "id": "351779a7-328b-4094-9b1f-893dbb655f83",
   "metadata": {},
   "outputs": [],
   "source": [
    "# return_xpress_str_txt(route_df.sequence.values, filename='exports/instance_01/route_sequence.txt')\n",
    "# return_xpress_int_txt(route_df.length.values, filename='exports/instance_01/route_length.txt')\n",
    "# return_xpress_int_txt(frequencies, filename='exports/instance_01/route_frequency.txt')"
   ]
  },
  {
   "cell_type": "markdown",
   "id": "2c66838e-665c-4f2a-aba8-b31314ec6fec",
   "metadata": {},
   "source": [
    "**Paths**"
   ]
  },
  {
   "cell_type": "code",
   "execution_count": null,
   "id": "d089c609-5e95-42f9-953a-e1852b485691",
   "metadata": {},
   "outputs": [],
   "source": [
    "# return_xpress_str_txt(paths_df.sequence.values, filename='exports/instance_01/path_sequence.txt')\n",
    "# return_xpress_int_txt(paths_df.length, filename='exports/instance_01/path_length.txt')"
   ]
  },
  {
   "cell_type": "markdown",
   "id": "2464c276-0a5d-4cea-9a54-bea83e77b6e7",
   "metadata": {},
   "source": [
    "**Y Preprocessing**"
   ]
  },
  {
   "cell_type": "code",
   "execution_count": null,
   "id": "7a08fcbd-42f6-4543-b6e8-866744387384",
   "metadata": {},
   "outputs": [],
   "source": [
    "# return_xpress_int_txt(y_fix_od, filename='exports/instance_01/yfix_origin_destination.txt')\n",
    "# return_xpress_int_txt(y_fix_r, filename='exports/instance_01/yfix_routes.txt')"
   ]
  },
  {
   "cell_type": "markdown",
   "id": "3fba8861-4ef3-4db5-a859-c7eb663a3d7c",
   "metadata": {},
   "source": [
    "**$\\delta$ Dimensionality Redux**"
   ]
  },
  {
   "cell_type": "code",
   "execution_count": null,
   "id": "f23626c4-43bd-47b8-b3e3-0094f68ef179",
   "metadata": {},
   "outputs": [],
   "source": [
    "# return_xpress_int_txt(od_path_edge, filename='exports/instance_01/small_delta.txt')\n",
    "# return_xpress_int_txt(reduced_delta_df.w_start, filename='exports/instance_01/small_delta_start.txt')\n",
    "# return_xpress_int_txt(reduced_delta_df.w_finish, filename='exports/instance_01/small_delta_finish.txt')"
   ]
  },
  {
   "cell_type": "markdown",
   "id": "332c16c5-4d55-46ef-be0c-7d6b285579c6",
   "metadata": {},
   "source": [
    "**$\\Delta $ Dimensionality Redux**"
   ]
  },
  {
   "cell_type": "code",
   "execution_count": 69,
   "id": "be8176af-1847-43c5-b652-cea80e7ed06e",
   "metadata": {},
   "outputs": [
    {
     "name": "stdout",
     "output_type": "stream",
     "text": [
      "DONE | File exports/instance_01/big_delta.txt saved to disk.\n"
     ]
    }
   ],
   "source": [
    "# return_xpress_int_txt(route_list, filename='exports/instance_01/big_delta.txt')\n",
    "# return_xpress_int_txt(start_pos, filename='exports/instance_01/big_delta_start.txt')\n",
    "# return_xpress_int_txt(end_pos, filename='exports/instance_01/big_delta_finish.txt')"
   ]
  }
 ],
 "metadata": {
  "kernelspec": {
   "display_name": "Python 3",
   "language": "python",
   "name": "python3"
  },
  "language_info": {
   "codemirror_mode": {
    "name": "ipython",
    "version": 3
   },
   "file_extension": ".py",
   "mimetype": "text/x-python",
   "name": "python",
   "nbconvert_exporter": "python",
   "pygments_lexer": "ipython3",
   "version": "3.7.10"
  }
 },
 "nbformat": 4,
 "nbformat_minor": 5
}
